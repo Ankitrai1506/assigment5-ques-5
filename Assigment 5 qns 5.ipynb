{
 "cells": [
  {
   "cell_type": "raw",
   "id": "92941317",
   "metadata": {},
   "source": [
    "Problem statement\n",
    "\n",
    "In this challenge, we will be extending the previous challenge and implementing methods in the parent class and its corresponding child class.\n",
    "\n",
    "The initializers for both classes have been defined for you.\n",
    "\n",
    "Task 1\n",
    "\n",
    "In the Account class, implement the getBalance() method that returns balance.\n",
    "\n",
    "Task 2\n",
    "\n",
    "In the Account class, implement the deposit(amount) method that adds amount to the balance.\n",
    "\n",
    "It does not return anything.\n",
    "\n",
    "Sample input\n",
    "\n",
    "balance = 2000\n",
    "deposit(500)\n",
    "getbalance()\n",
    "Sample output\n",
    "\n",
    "2500\n",
    "Task 3\n",
    "\n",
    "In the Account class, implement the withdrawal(amount) method that subtracts the amount from the balance.\n",
    "\n",
    "It does not return anything.\n",
    "\n",
    "Sample input\n",
    "\n",
    "balance = 2000\n",
    "withdrawal(500)\n",
    "getbalance()\n",
    "Sample output\n",
    "\n",
    "1500\n",
    "Task 4\n",
    "\n",
    "In the SavingsAccount class, implement an interestAmount() method that returns the interest amount of the current balance.\n",
    "\n",
    "Below is the formula for calculating the interest amount:\n",
    "\n",
    "image1\n",
    "\n",
    "Sample input\n",
    "\n",
    "balance = 2000\n",
    "interestRate = 5\n",
    "interestAmount()\n",
    "Sample output\n",
    "\n",
    "100\n",
    "The following figure shows what the result should logically look like:"
   ]
  },
  {
   "cell_type": "code",
   "execution_count": 3,
   "id": "34716fb8",
   "metadata": {},
   "outputs": [
    {
     "name": "stdout",
     "output_type": "stream",
     "text": [
      "Current Balance after deposit: 2500\n",
      "Updated Balance After withdrawal: 2000\n",
      "Interest Amount: 100.0\n"
     ]
    }
   ],
   "source": [
    "class Account:\n",
    "    def __init__(self, title, balance=0):\n",
    "        self.title = title\n",
    "        self.balance = balance\n",
    "    def getBalance(self):\n",
    "        return self.balance\n",
    "    \n",
    "    def deposit(self, amount):\n",
    "        self.balance += amount\n",
    "    \n",
    "    def withdrawal(self, amount):\n",
    "        self.balance -= amount\n",
    "\n",
    "class SavingsAccount(Account):\n",
    "    def __init__(self, title, balance, interestRate):\n",
    "        super().__init__(title, balance)\n",
    "        self.interestRate = interestRate\n",
    "    def interestAmount(self):\n",
    "        return (self.balance * self.interestRate) / 100\n",
    "savings_account = SavingsAccount(\"Ashish\", 2000, 5)\n",
    "\n",
    "savings_account.deposit(500)\n",
    "print(\"Current Balance after deposit:\", savings_account.getBalance())\n",
    "\n",
    "savings_account.withdrawal(500)\n",
    "print(\"Updated Balance After withdrawal:\", savings_account.getBalance())\n",
    "\n",
    "interest_amount = savings_account.interestAmount()\n",
    "print(\"Interest Amount:\", interest_amount)"
   ]
  },
  {
   "cell_type": "code",
   "execution_count": null,
   "id": "dda8730f",
   "metadata": {},
   "outputs": [],
   "source": []
  }
 ],
 "metadata": {
  "kernelspec": {
   "display_name": "Python 3 (ipykernel)",
   "language": "python",
   "name": "python3"
  },
  "language_info": {
   "codemirror_mode": {
    "name": "ipython",
    "version": 3
   },
   "file_extension": ".py",
   "mimetype": "text/x-python",
   "name": "python",
   "nbconvert_exporter": "python",
   "pygments_lexer": "ipython3",
   "version": "3.10.9"
  }
 },
 "nbformat": 4,
 "nbformat_minor": 5
}
